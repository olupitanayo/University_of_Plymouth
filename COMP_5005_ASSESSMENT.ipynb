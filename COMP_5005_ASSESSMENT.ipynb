{
 "cells": [
  {
   "cell_type": "code",
   "execution_count": 10,
   "id": "aef8b170",
   "metadata": {},
   "outputs": [],
   "source": [
    "#Tools for implementing RSA to generate keys and PKCS1_OAEP to encrypt and decrypt messages in a secure way\n",
    "\n",
    "from Crypto.PublicKey import RSA\n",
    "from Crypto.Cipher import PKCS1_OAEP"
   ]
  },
  {
   "cell_type": "code",
   "execution_count": 11,
   "id": "241733de",
   "metadata": {},
   "outputs": [
    {
     "name": "stdout",
     "output_type": "stream",
     "text": [
      "Eve's message: How are you doing?\n"
     ]
    }
   ],
   "source": [
    "#This is Eve sending a message to Bob\n",
    "Eve_message = \"How are you doing?\"\n",
    "print(f\"Eve's message: {Eve_message}\")"
   ]
  },
  {
   "cell_type": "code",
   "execution_count": 12,
   "id": "fb105770",
   "metadata": {},
   "outputs": [
    {
     "name": "stdout",
     "output_type": "stream",
     "text": [
      "Public Key EKpu: (n=0xc7db18464425c9af7787f70a14b979d697736b08a427e53f72e409036b2f2ead824e77acf6e815a8f54ea3f53ac6614e2585ec1ecd70246abddb7c393e1cfcf0d59f0b954b2e306e20596a8e60effadb900bc02713d21707b506aca1200557cb7ca64eba4597305e23722817c79f9f5698da1ce2fef10b610f37f2b52d1624f53629a4b8b68ac0e6796b6852c0742834f191d89b3d534d18c6b4cb46345c45c85672f7d515b1c0c096e7150968b3b01a1ac211a84cda829d294a56c92b9c943a93ff379e7b08629bdddeafb36e9b708fb113cf3c69200dce7d6d7adc0260c57216bf596ec1b76c1bae04d8cda663a1c05682497f04132e496c5eb5d2f312b85d, e=0x10001)\n",
      "Private Key EKpr: (n=0xc7db18464425c9af7787f70a14b979d697736b08a427e53f72e409036b2f2ead824e77acf6e815a8f54ea3f53ac6614e2585ec1ecd70246abddb7c393e1cfcf0d59f0b954b2e306e20596a8e60effadb900bc02713d21707b506aca1200557cb7ca64eba4597305e23722817c79f9f5698da1ce2fef10b610f37f2b52d1624f53629a4b8b68ac0e6796b6852c0742834f191d89b3d534d18c6b4cb46345c45c85672f7d515b1c0c096e7150968b3b01a1ac211a84cda829d294a56c92b9c943a93ff379e7b08629bdddeafb36e9b708fb113cf3c69200dce7d6d7adc0260c57216bf596ec1b76c1bae04d8cda663a1c05682497f04132e496c5eb5d2f312b85d, d=0xef06581f471c9ffd7ea0316845266f544fb3cd577b129c03d3e26c9a97741eb235c953289d4485b89ac02b27fddb8aea6e70f58301816b37494ab00fbba73fd2bf8085d75075e04655e4f0a41dc6913da27c95f17c007b6579af39d7f04c1e41fe1adec8640d5133c5d64a4d3bdaea34252ba2a624f32000e80aa9fa35ff936ca059ef9c7177286c81933cf5f6043b9d98c5377f4af7ec60ef58cb948fd90f304ba80e13f62ac41dadf6ccf10d2bc245a6a4c19336d99b63b02049e805fc9a78b7156ff3dce01964e2de9a16b50be1b3bd9ef9532f4d7c3d4d7d884b5fc296223016eda04292d7247530e93b9eb766eaae6eaddc41ffe3f3c511a382fa6dc1b)\n"
     ]
    }
   ],
   "source": [
    "# Generating RSA keys(public and private key) for Eve\n",
    "\n",
    "Eve_key = RSA.generate(2048)\n",
    "Eve_public_key = Eve_key.publickey()\n",
    "Eve_cipher = PKCS1_OAEP.new(Eve_public_key)\n",
    "print(f\"Public Key EKpu: (n={hex(Eve_key.n)}, e={hex(Eve_key.e)})\")\n",
    "print(f\"Private Key EKpr: (n={hex(Eve_key.n)}, d={hex(Eve_key.d)})\")"
   ]
  },
  {
   "cell_type": "code",
   "execution_count": 4,
   "id": "84dbbe7a",
   "metadata": {},
   "outputs": [
    {
     "name": "stdout",
     "output_type": "stream",
     "text": [
      "Public Key BKpu: (n=0xa441fafa2c77b968b7a28f355911321c0ce09ff7a8c747bf615fc587999f07b5f6257ec98c36c225402cffa5a718151f4937648733078e8d938bd4350206f3a2cca1c40b86ca163f5b46f9e02e7ef757f6b6d34300b62daaeddbeb527330db6599912c3ea888ce2ab858a6965f388d843940ebea58b0b1963930491e2a03808d617171febb63d7b87d539c260c67ca787bd7e0a51113937acd997ff54c2f2cbd0ec1b6b31bc0dfa6fe2475b16d923b80e930a891127ba501eeffa795dad362f9e7c76281a9f1545bf853830e0fc667f7a9886211e364f7ecc576345365050ff5306d9382d8af44ebcf35f14ddd4517c995710026a15b63e4491dd349e7593445, e=0x10001)\n",
      "Private Key BKpr: (n=0xa441fafa2c77b968b7a28f355911321c0ce09ff7a8c747bf615fc587999f07b5f6257ec98c36c225402cffa5a718151f4937648733078e8d938bd4350206f3a2cca1c40b86ca163f5b46f9e02e7ef757f6b6d34300b62daaeddbeb527330db6599912c3ea888ce2ab858a6965f388d843940ebea58b0b1963930491e2a03808d617171febb63d7b87d539c260c67ca787bd7e0a51113937acd997ff54c2f2cbd0ec1b6b31bc0dfa6fe2475b16d923b80e930a891127ba501eeffa795dad362f9e7c76281a9f1545bf853830e0fc667f7a9886211e364f7ecc576345365050ff5306d9382d8af44ebcf35f14ddd4517c995710026a15b63e4491dd349e7593445, d=0x665f439a02cce61ed5bf2d9caf7e2aca40b1b4016e8cda5d4a1af3c95227ee19023d818a567bbfa9e7c2ce878d09fd601a5f0e506a5ac8b0841cc9e29fa37ada79744df31676d796ca6a04a22c0305b52a6bed0f52b4e2e6d288160a0a5b90e1a996f3b4643af4ae10bc1a574326c3f7274271c65a05b07dfd4be81b874e8221f092a5deefbca8afc0459a5d6fb3c331df4f2e4d1978a26c2f6ac09330c5cac5d1b92f050a4a1668eef4da8de40b2b6e7832a1fd63db71bc7295f3e35b648a8e9e56a39918a2b786bea52b3f60d5c2ec91e1d010e11c6ee40ff451a4535f10da6eeacaa5f16a1a133e2cd8db7e6dc599cc8f3709e47a339354ad43ad394372b)\n"
     ]
    }
   ],
   "source": [
    "# Generating RSA keys(public and private key) for Bob \n",
    "Bob_key = RSA.generate(2048)\n",
    "Bob_public_key = Bob_key.publickey()\n",
    "Bob_cipher = PKCS1_OAEP.new(Bob_public_key)\n",
    "print(f\"Public Key BKpu: (n={hex(Bob_key.n)}, e={hex(Bob_key.e)})\")\n",
    "print(f\"Private Key BKpr: (n={hex(Bob_key.n)}, d={hex(Bob_key.d)})\")"
   ]
  },
  {
   "cell_type": "code",
   "execution_count": 13,
   "id": "bf4def73",
   "metadata": {},
   "outputs": [
    {
     "name": "stdout",
     "output_type": "stream",
     "text": [
      "Public Key AKpu: (n=0xdb7c5c628309ab837e91866c79269295058dbd783859841b08cc19e05efc43e4b75bb3ae77f63ad948b71b7ef95040580a4933f645f0522f6be9c9527dd552985cc22cb3c1463dd2d66e71c18073842b6db1054e58490424cb3dc43c30ce6ba94e05cd5e42b071d4f5ffeec0ee8c6c4b2bbc3d7ecde22fb65660a95d5bf1520da25298dd247e18a62315f25c3e68e98712d44e9bb86d1bfb8f9fe122a1f4ca68d8279529b43d8ee1c0d0068e6b30af974f47ac89246bc118ce7c2e17b9fe281c8ae4e70550bbeea5ee1871f19567ead85a47fbce8c7a64f497cc42289ca47929b79827619594b211f3d8a601cebb7e6875fcf0dc0c290841a25c74b4d7d1dff9, e=0x10001)\n",
      "Private Key AKpr: (n=0xdb7c5c628309ab837e91866c79269295058dbd783859841b08cc19e05efc43e4b75bb3ae77f63ad948b71b7ef95040580a4933f645f0522f6be9c9527dd552985cc22cb3c1463dd2d66e71c18073842b6db1054e58490424cb3dc43c30ce6ba94e05cd5e42b071d4f5ffeec0ee8c6c4b2bbc3d7ecde22fb65660a95d5bf1520da25298dd247e18a62315f25c3e68e98712d44e9bb86d1bfb8f9fe122a1f4ca68d8279529b43d8ee1c0d0068e6b30af974f47ac89246bc118ce7c2e17b9fe281c8ae4e70550bbeea5ee1871f19567ead85a47fbce8c7a64f497cc42289ca47929b79827619594b211f3d8a601cebb7e6875fcf0dc0c290841a25c74b4d7d1dff9, d=0x90f1ad7e38e9ad39bc89e9eb148ea3da8467b829fe3c7a009dc1fb8cafed8955da1355b39a9bcc52805cbbc1bc6f2cd97736cf23e1c7f4de458b87075250b55227b4eb6f1741db18b3170df4801973bd2246a17f12cfbff6c9be7e8053fd881d0488d1b8b5486f194e0e0d38f27ab56c119e7c409342131ed2282a1b472e89c4d18806196edffeab1588ebc7d416a372df3d299045b74d4acc37e2c8d634821cbbb8e2686fac3a2ba21240da6717daf2e5836de7514447619b9976da3db84b2339d65da7a7288be91c1e3ee3a9051c8703dde7c888c0ad469b672e0431a3cc516bdaab043339d74304039cf017324f6218532b6d3dab2cd2cd40b996f06fa91)\n"
     ]
    }
   ],
   "source": [
    "# Generating RSA keys(public and private key) for the Attacker AKpu and AKpr\n",
    "attackers_key = RSA.generate(2048)\n",
    "attackers_public_key = attackers_key.publickey()\n",
    "attackers_cipher = PKCS1_OAEP.new(attackers_public_key)\n",
    "print(f\"Public Key AKpu: (n={hex(attackers_key.n)}, e={hex(attackers_key.e)})\")\n",
    "print(f\"Private Key AKpr: (n={hex(attackers_key.n)}, d={hex(attackers_key.d)})\")"
   ]
  },
  {
   "cell_type": "code",
   "execution_count": 14,
   "id": "b10fd8b4",
   "metadata": {
    "scrolled": true
   },
   "outputs": [
    {
     "name": "stdout",
     "output_type": "stream",
     "text": [
      "Encrypted with the attacker's public key AKpu: 5322eed6be390703bed6a5de886334e25919c8d8101859f4cdeccab9272182ab185d10c4085a9cb949f4fc03948b1937f7093428ee181f5065c9c29c4360c77878461e251390e344c513ef6f1de833f17a44a2899e26e6116decb26943bc68e9d3616840e40da4495369a4a156026f3fa75784040c2714eff3e812b6a42e64f5677c657475e3daaa71692a26c8171f52ada997eb1b07c88fd35e1401d31e7e3b87ad3874a709096bf30d8cd0d9c5cc0431ae176c4eb871ffcf8d2bdec43755561759fb16c24d4d2990dba0c50dc368d1992e06f5eba34534a4d1acca2fe58851690fd2aab529666a5f7a992d35cdeffb08d329e5be0e3683b4bc2fe3ac2fcc52\n"
     ]
    }
   ],
   "source": [
    "# When Eve encrypts the message, She thinks she is using Bob's public key, but in reality it is the attacker's public key AKpu. \n",
    "\n",
    "encrypted_with_AKpu = attackers_cipher.encrypt(Eve_message.encode())\n",
    "print(f\"Encrypted with the attacker's public key AKpu: {encrypted_with_AKpu.hex()}\")"
   ]
  },
  {
   "cell_type": "code",
   "execution_count": 15,
   "id": "9da87136",
   "metadata": {},
   "outputs": [
    {
     "name": "stdout",
     "output_type": "stream",
     "text": [
      "Decrypted by attacker private key AKpr: How are you doing?\n"
     ]
    }
   ],
   "source": [
    "# Attacker decrypts the message using their private key AKpr\n",
    "attackers_cipher_AKpr = PKCS1_OAEP.new(attackers_key)\n",
    "decrypted_by_attacker = attackers_cipher_AKpr.decrypt(encrypted_with_AKpu)\n",
    "print(f\"Decrypted by attacker private key AKpr: {decrypted_by_attacker.decode()}\")"
   ]
  },
  {
   "cell_type": "code",
   "execution_count": 16,
   "id": "67a6c31e",
   "metadata": {},
   "outputs": [
    {
     "name": "stdout",
     "output_type": "stream",
     "text": [
      "Re-encrypted with Bob's public key BKpu: 42bf67ee091efad7323730dde0ff6e513e6156d2f6db922846d54cf35a9b0b6d0907e12f4e901405c81654bc1a2fa7258b36e8c1bb2558cd11b0e9c5dea6accf70fc6d9c60009c2228f5555eb80ea89cc89df4ece5cb04f749cea7a254e13d248a55e771a2b40e66f80c46eabe341bb6e9f63857ed829e0887ca402e670ff8fed284aba3a180600e4ab8b3cd263eceb7caef6329f42baeb6953591d1412238225034fff7a6a77dba1c11df487d1be5a2d9dc6ee577bbaa05c0808bd90021f961c1850f77ede063a85ad8f11f9f14849283e0fd22534c94b2bced21faaa3d00a503824d24dcdfbf62a09da3b206f6a9a67f1c1a4b70812de247477ac784f7bffa\n"
     ]
    }
   ],
   "source": [
    "# Attacker re-encrypts the message with Bob's actual public key BKpu\n",
    "re_encrypted_with_BKpu = Bob_cipher.encrypt(decrypted_by_attacker)\n",
    "print(f\"Re-encrypted with Bob's public key BKpu: {re_encrypted_with_BKpu.hex()}\")"
   ]
  },
  {
   "cell_type": "code",
   "execution_count": 17,
   "id": "c624e361",
   "metadata": {},
   "outputs": [
    {
     "name": "stdout",
     "output_type": "stream",
     "text": [
      "Bob received and decrypted message using his own private key BKpr: How are you doing?\n"
     ]
    }
   ],
   "source": [
    "# Bob receives the message and decrypts it using is own private key BKpr\n",
    "Bob_cipher_BKpr = PKCS1_OAEP.new(Bob_key)\n",
    "Bob_received_message = Bob_cipher_BKpr.decrypt(re_encrypted_with_BKpu)\n",
    "print(f\"Bob received and decrypted message using his own private key BKpr: {Bob_received_message.decode()}\")"
   ]
  },
  {
   "cell_type": "code",
   "execution_count": null,
   "id": "544dd816",
   "metadata": {},
   "outputs": [],
   "source": []
  }
 ],
 "metadata": {
  "kernelspec": {
   "display_name": "Python 3 (ipykernel)",
   "language": "python",
   "name": "python3"
  },
  "language_info": {
   "codemirror_mode": {
    "name": "ipython",
    "version": 3
   },
   "file_extension": ".py",
   "mimetype": "text/x-python",
   "name": "python",
   "nbconvert_exporter": "python",
   "pygments_lexer": "ipython3",
   "version": "3.9.18"
  }
 },
 "nbformat": 4,
 "nbformat_minor": 5
}
